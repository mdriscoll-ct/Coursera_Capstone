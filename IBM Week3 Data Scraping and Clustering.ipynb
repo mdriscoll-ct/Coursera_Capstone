{
 "cells": [
  {
   "cell_type": "markdown",
   "metadata": {},
   "source": [
    "IBM Web Scraping, Segmentation and Clustering Project\n",
    "1st Section of Submission\n",
    "C - Jan. 2021\n",
    "A - M. Driscoll"
   ]
  },
  {
   "cell_type": "code",
   "execution_count": null,
   "metadata": {},
   "outputs": [],
   "source": [
    "# Library - Numerical Library for Vector Data\n",
    "import numpy as np\n",
    "# Library - Numerical Library for Random # Generation\n",
    "import random\n",
    "# LIbrary - PANDA - Data Analytics \n",
    "import pandas as pd\n",
    "# Library - Request Handling\n",
    "import requests"
   ]
  },
  {
   "cell_type": "code",
   "execution_count": null,
   "metadata": {},
   "outputs": [],
   "source": [
    "# Install Beautiful Soup 4 and LXML Libraries\n",
    "!pip install beautifulsoup4\n",
    "!pip install lxml\n",
    "# Define Beautiful Soup Library\n",
    "from bs4 import BeautifulSoup"
   ]
  },
  {
   "cell_type": "code",
   "execution_count": null,
   "metadata": {},
   "outputs": [],
   "source": [
    "# Library - Ipython Import and Display Images\n",
    "from IPython.display import Image \n",
    "from IPython.core.display import HTML \n",
    "from IPython.display import display_html\n",
    "\n",
    "    \n",
    "# Library to tranform json file into a pandas dataframe library\n",
    "from pandas.io.json import json_normalize"
   ]
  },
  {
   "cell_type": "code",
   "execution_count": null,
   "metadata": {},
   "outputs": [],
   "source": [
    "# Import Web Page for Canadian Postal Codes using Beautiful Soup and Display to import and display table\n",
    "\n",
    "source = requests.get('https://en.wikipedia.org/wiki/List_of_postal_codes_of_Canada:_M').text\n",
    "soup=BeautifulSoup(source,'lxml')\n",
    "print(soup.title)\n",
    "    \n",
    "tbl = str(soup.table)\n",
    "display_html(tbl,raw=True)"
   ]
  },
  {
   "cell_type": "code",
   "execution_count": null,
   "metadata": {},
   "outputs": [],
   "source": [
    "# Convert HTML table to Dataframe using Pandas\n",
    "dfs = pd.read_html(tbl)\n",
    "df=dfs[0]\n",
    "df.head()"
   ]
  },
  {
   "cell_type": "code",
   "execution_count": null,
   "metadata": {},
   "outputs": [],
   "source": [
    "# Drop Rows Where Borough is NOt ASSIGNED and Combine with Neighborhoods with the same Postal Code\n",
    "df1 = df[df.Borough != 'Not assigned']\n",
    "df1.head()"
   ]
  },
  {
   "cell_type": "code",
   "execution_count": null,
   "metadata": {},
   "outputs": [],
   "source": [
    "# Combine Neighborhoods with the same Postal Code\n",
    "df2 = df1.groupby(['Postal Code','Borough'], sort=False).agg(', '.join)\n",
    "df2.reset_index(inplace=True)\n",
    "df2.head()"
   ]
  },
  {
   "cell_type": "code",
   "execution_count": null,
   "metadata": {},
   "outputs": [],
   "source": [
    "# Replacing names neighbourhoods which are 'Not assigned' with names of Borough\n",
    "df2['Neighbourhood'] = np.where(df2['Neighbourhood'] == 'Not assigned',df2['Borough'], df2['Neighbourhood'])\n",
    "\n",
    "# Display Dataframe\n",
    "df2"
   ]
  },
  {
   "cell_type": "code",
   "execution_count": null,
   "metadata": {},
   "outputs": [],
   "source": [
    "# Display shape of dataframe\n",
    "df2.shape"
   ]
  }
 ],
 "metadata": {
  "kernelspec": {
   "display_name": "Python",
   "language": "python",
   "name": "conda-env-python-py"
  },
  "language_info": {
   "codemirror_mode": {
    "name": "ipython",
    "version": 3
   },
   "file_extension": ".py",
   "mimetype": "text/x-python",
   "name": "python",
   "nbconvert_exporter": "python",
   "pygments_lexer": "ipython3",
   "version": "3.6.12"
  }
 },
 "nbformat": 4,
 "nbformat_minor": 4
}
